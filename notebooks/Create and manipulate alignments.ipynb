{
 "metadata": {
  "name": "",
  "signature": "sha256:949d0e973fbe9460db05e7112e9dc06cee96072bfd8ae4b1f48de64a50decf83"
 },
 "nbformat": 3,
 "nbformat_minor": 0,
 "worksheets": [
  {
   "cells": [
    {
     "cell_type": "heading",
     "level": 1,
     "metadata": {},
     "source": [
      "Creation of RNA alignments from databases"
     ]
    },
    {
     "cell_type": "code",
     "collapsed": false,
     "input": [
      "from pyrna.db import Rfam\n",
      "rfam = Rfam(use_website = True)\n",
      "rfam.get_entry(rfam_id = 'RF00058', nse_labels = 0)"
     ],
     "language": "python",
     "metadata": {},
     "outputs": [
      {
       "metadata": {},
       "output_type": "pyout",
       "prompt_number": 208,
       "text": [
        "([<pyrna.features.RNA instance at 0x109972cf8>,\n",
        "  <pyrna.features.RNA instance at 0x109972170>,\n",
        "  <pyrna.features.RNA instance at 0x109972b48>,\n",
        "  <pyrna.features.RNA instance at 0x109972bd8>],\n",
        " {'P.furiosus.1': 'AF468962.1/1-168',\n",
        "  'Pyrococcus_abyssi_GE.1': 'AJ248284.1/11131-11298',\n",
        "  'Pyrococcus_horikoshi.1': 'BA000001.2/1531413-1531580',\n",
        "  'Thermococcus_kodakar.1': 'AP006878.1/1107433-1107263'},\n",
        "    orientation edge1 edge2  pos1  pos2\n",
        "0            c     (     )    14    26\n",
        "1            c     (     )    13    27\n",
        "2            c     (     )    12    28\n",
        "3            c     (     )    11    29\n",
        "4            c     (     )    10    30\n",
        "5            c     (     )     9    31\n",
        "6            c     (     )     8    32\n",
        "7            c     (     )    56    66\n",
        "8            c     (     )    55    67\n",
        "9            c     (     )    54    68\n",
        "10           c     (     )    53    69\n",
        "11           c     (     )    51    78\n",
        "12           c     (     )    50    79\n",
        "13           c     (     )    49    80\n",
        "14           c     (     )    48    81\n",
        "15           c     (     )    47    82\n",
        "16           c     (     )    42    94\n",
        "17           c     (     )    41    95\n",
        "18           c     (     )    40    96\n",
        "19           c     (     )    39    97\n",
        "20           c     (     )    38    98\n",
        "21           c     (     )    37    99\n",
        "22           c     (     )    36   100\n",
        "23           c     (     )    35   101\n",
        "24           c     (     )   127   137\n",
        "25           c     (     )   126   138\n",
        "26           c     (     )   125   139\n",
        "27           c     (     )   124   140\n",
        "28           c     (     )   123   142\n",
        "29           c     (     )   122   143\n",
        "30           c     (     )   121   144\n",
        "31           c     (     )   111   154\n",
        "32           c     (     )   110   155\n",
        "33           c     (     )   109   156\n",
        "34           c     (     )   108   157\n",
        "35           c     (     )   107   158\n",
        "36           c     (     )   106   159\n",
        "37           c     (     )   105   160\n",
        "\n",
        "[38 rows x 5 columns])"
       ]
      }
     ],
     "prompt_number": 208
    },
    {
     "cell_type": "code",
     "collapsed": false,
     "input": [
      "from pyrna.db import Rfam\n",
      "rfam = Rfam(cache_dir = \"/Users/fjossinet/RFAM\")\n",
      "rnas, species, consensus = rfam.get_entry('RF00059')"
     ],
     "language": "python",
     "metadata": {},
     "outputs": [],
     "prompt_number": 116
    },
    {
     "cell_type": "code",
     "collapsed": false,
     "input": [
      "test = {}\n",
      "\n",
      "print test.get('tutu',0)\n",
      "\n",
      "test['tutu'] = 12\n",
      "\n",
      "print test.get('tutu',0)"
     ],
     "language": "python",
     "metadata": {},
     "outputs": [
      {
       "output_type": "stream",
       "stream": "stdout",
       "text": [
        "0\n",
        "12\n"
       ]
      }
     ],
     "prompt_number": 181
    },
    {
     "cell_type": "code",
     "collapsed": false,
     "input": [],
     "language": "python",
     "metadata": {},
     "outputs": []
    },
    {
     "cell_type": "code",
     "collapsed": false,
     "input": [
      "consensus['non-canonical'] = (consensus.orientation == 'c') & (consensus.edge1 == '(') & (consensus.edge2 == ')')"
     ],
     "language": "python",
     "metadata": {},
     "outputs": [],
     "prompt_number": 130
    },
    {
     "cell_type": "code",
     "collapsed": false,
     "input": [
      "consensus['source'] = 'unknown'"
     ],
     "language": "python",
     "metadata": {},
     "outputs": [],
     "prompt_number": 134
    },
    {
     "cell_type": "code",
     "collapsed": false,
     "input": [
      "consensus = consensus.reindex(index = range(1, len(consensus.index)+1))"
     ],
     "language": "python",
     "metadata": {},
     "outputs": [],
     "prompt_number": 149
    },
    {
     "cell_type": "code",
     "collapsed": false,
     "input": [
      "from pandas import DataFrame \n",
      "\n",
      "print "
     ],
     "language": "python",
     "metadata": {},
     "outputs": [
      {
       "output_type": "stream",
       "stream": "stdout",
       "text": [
        "<class 'pandas.core.frame.DataFrame'>\n"
       ]
      }
     ],
     "prompt_number": 207
    }
   ],
   "metadata": {}
  }
 ]
}