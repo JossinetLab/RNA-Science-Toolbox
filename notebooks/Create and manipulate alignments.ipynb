{
 "cells": [
  {
   "cell_type": "markdown",
   "metadata": {},
   "source": [
    "# Creation of RNA alignments from databases"
   ]
  },
  {
   "cell_type": "code",
   "execution_count": 1,
   "metadata": {
    "collapsed": false
   },
   "outputs": [
    {
     "data": {
      "text/plain": [
       "([<pyrna.features.RNA instance at 0x7f861fca3248>,\n",
       "  <pyrna.features.RNA instance at 0x7f861fca3440>,\n",
       "  <pyrna.features.RNA instance at 0x7f861fca3710>,\n",
       "  <pyrna.features.RNA instance at 0x7f861fca37a0>],\n",
       " {},\n",
       "    orientation edge1 edge2  pos1  pos2\n",
       " 0            c     (     )    14    26\n",
       " 1            c     (     )    13    27\n",
       " 2            c     (     )    12    28\n",
       " 3            c     (     )    11    29\n",
       " 4            c     (     )    10    30\n",
       " 5            c     (     )     9    31\n",
       " 6            c     (     )     8    32\n",
       " 7            c     (     )    56    66\n",
       " 8            c     (     )    55    67\n",
       " 9            c     (     )    54    68\n",
       " 10           c     (     )    53    69\n",
       " 11           c     (     )    51    78\n",
       " 12           c     (     )    50    79\n",
       " 13           c     (     )    49    80\n",
       " 14           c     (     )    48    81\n",
       " 15           c     (     )    47    82\n",
       " 16           c     (     )    42    94\n",
       " 17           c     (     )    41    95\n",
       " 18           c     (     )    40    96\n",
       " 19           c     (     )    39    97\n",
       " 20           c     (     )    38    98\n",
       " 21           c     (     )    37    99\n",
       " 22           c     (     )    36   100\n",
       " 23           c     (     )    35   101\n",
       " 24           c     (     )   127   137\n",
       " 25           c     (     )   126   138\n",
       " 26           c     (     )   125   139\n",
       " 27           c     (     )   124   140\n",
       " 28           c     (     )   123   142\n",
       " 29           c     (     )   122   143\n",
       " 30           c     (     )   121   144\n",
       " 31           c     (     )   111   154\n",
       " 32           c     (     )   110   155\n",
       " 33           c     (     )   109   156\n",
       " 34           c     (     )   108   157\n",
       " 35           c     (     )   107   158\n",
       " 36           c     (     )   106   159\n",
       " 37           c     (     )   105   160)"
      ]
     },
     "execution_count": 1,
     "metadata": {},
     "output_type": "execute_result"
    }
   ],
   "source": [
    "from pyrna.db import Rfam\n",
    "rfam = Rfam(use_website = True)\n",
    "rfam.get_entry(rfam_id = 'RF00058', nse_labels = 0)"
   ]
  },
  {
   "cell_type": "code",
   "execution_count": 116,
   "metadata": {
    "collapsed": false
   },
   "outputs": [],
   "source": [
    "from pyrna.db import Rfam\n",
    "rfam = Rfam(cache_dir = \"/Users/fjossinet/RFAM\")\n",
    "rnas, species, consensus = rfam.get_entry('RF00059')"
   ]
  },
  {
   "cell_type": "code",
   "execution_count": 181,
   "metadata": {
    "collapsed": false
   },
   "outputs": [
    {
     "name": "stdout",
     "output_type": "stream",
     "text": [
      "0\n",
      "12\n"
     ]
    }
   ],
   "source": [
    "test = {}\n",
    "\n",
    "print test.get('tutu',0)\n",
    "\n",
    "test['tutu'] = 12\n",
    "\n",
    "print test.get('tutu',0)"
   ]
  },
  {
   "cell_type": "code",
   "execution_count": null,
   "metadata": {
    "collapsed": false
   },
   "outputs": [],
   "source": []
  },
  {
   "cell_type": "code",
   "execution_count": 130,
   "metadata": {
    "collapsed": false
   },
   "outputs": [],
   "source": [
    "consensus['non-canonical'] = (consensus.orientation == 'c') & (consensus.edge1 == '(') & (consensus.edge2 == ')')"
   ]
  },
  {
   "cell_type": "code",
   "execution_count": 134,
   "metadata": {
    "collapsed": false
   },
   "outputs": [],
   "source": [
    "consensus['source'] = 'unknown'"
   ]
  },
  {
   "cell_type": "code",
   "execution_count": 149,
   "metadata": {
    "collapsed": false
   },
   "outputs": [],
   "source": [
    "consensus = consensus.reindex(index = range(1, len(consensus.index)+1))"
   ]
  },
  {
   "cell_type": "code",
   "execution_count": 207,
   "metadata": {
    "collapsed": false
   },
   "outputs": [
    {
     "name": "stdout",
     "output_type": "stream",
     "text": [
      "<class 'pandas.core.frame.DataFrame'>\n"
     ]
    }
   ],
   "source": [
    "from pandas import DataFrame \n",
    "\n",
    "print "
   ]
  }
 ],
 "metadata": {
  "kernelspec": {
   "display_name": "Python 2",
   "language": "python",
   "name": "python2"
  },
  "language_info": {
   "codemirror_mode": {
    "name": "ipython",
    "version": 2
   },
   "file_extension": ".py",
   "mimetype": "text/x-python",
   "name": "python",
   "nbconvert_exporter": "python",
   "pygments_lexer": "ipython2",
   "version": "2.7.10"
  }
 },
 "nbformat": 4,
 "nbformat_minor": 0
}
