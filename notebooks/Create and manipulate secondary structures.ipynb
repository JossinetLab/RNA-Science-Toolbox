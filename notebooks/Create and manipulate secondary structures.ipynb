{
 "metadata": {
  "name": "",
  "signature": "sha256:3468ca411936629cf2efc4ff6eec7684acb67ece8f9d7cef321699b5ead6d6cc"
 },
 "nbformat": 3,
 "nbformat_minor": 0,
 "worksheets": [
  {
   "cells": [
    {
     "cell_type": "markdown",
     "metadata": {},
     "source": [
      "PyRNA stores and describes an RNA secondary structure using two different data structures:\n",
      "\n",
      "* a pandas Dataframe\n",
      "* a pyrna.features.SecondaryStructure object\n",
      "\n",
      "The pandas Dataframe lists all the base pairs (a.k.a interactions) making the secondary structure. If a pandas Dataframe restricts the exploration of a secondary structure to the level of the base pairs, a pyrna.features.SecondaryStructure gives us access to high-level objects like: \n",
      "\n",
      "* helices,\n",
      "* single-strands,\n",
      "* junctions.\n",
      "\n",
      "In both data structures, the edges of the base pairs are described with three different characters:\n",
      "\n",
      "    * '(' or ')' for Watson-Crick edges,\n",
      "    * '[' or ']' for Hoogsteen edges,\n",
      "    * '{' or '}' for Sugar edges.\n",
      "    \n",
      "A base pair can also be in a cis ('c') or trans ('t') orientation."
     ]
    },
    {
     "cell_type": "heading",
     "level": 1,
     "metadata": {},
     "source": [
      "Creation of secondary structures from scratch"
     ]
    },
    {
     "cell_type": "code",
     "collapsed": false,
     "input": [
      "import json #to have a better output for dict describing pyrna.features.RNA objects (interactions, helices, single-strands,..)\n",
      "\n",
      "from pyrna.parsers import parse_bn\n",
      "rna = RNA(name = 'my_rna', sequence = 'GGGGGACAACCCC')\n",
      "bn = '(({(.....))))'\n",
      "base_pairs = parse_bn(bn)\n",
      "print base_pairs"
     ],
     "language": "python",
     "metadata": {},
     "outputs": [
      {
       "output_type": "stream",
       "stream": "stdout",
       "text": [
        "  orientation edge1 edge2  pos1  pos2\n",
        "0           c     (     )     4    10\n",
        "1           c     {     )     3    11\n",
        "2           c     (     )     2    12\n",
        "3           c     (     )     1    13\n",
        "\n",
        "[4 rows x 5 columns]\n"
       ]
      }
     ],
     "prompt_number": 1
    },
    {
     "cell_type": "markdown",
     "metadata": {},
     "source": [
      "Now we transform this list of base-pairs into a pyrna.features.SecondaryStructure object."
     ]
    },
    {
     "cell_type": "code",
     "collapsed": false,
     "input": [
      "from pyrna.parsers import base_pairs_to_secondary_structure\n",
      "ss = base_pairs_to_secondary_structure(rna, base_pairs)"
     ],
     "language": "python",
     "metadata": {},
     "outputs": [],
     "prompt_number": 2
    },
    {
     "cell_type": "markdown",
     "metadata": {},
     "source": [
      "Now we can browse over the helices. An helix contains a field to store non-canonical base pairs (meaning base pairs different from c() AU, c() GU or c() GC. "
     ]
    },
    {
     "cell_type": "code",
     "collapsed": false,
     "input": [
      "for helix in ss.helices:\n",
      "    print json.dumps(helix, indent = 2)\n",
      "    print \"\\nAny non canonical base pairs in this helix?\\n\"\n",
      "    for interaction in helix['interactions']:\n",
      "        print json.dumps(interaction, indent = 2)    "
     ],
     "language": "python",
     "metadata": {},
     "outputs": [
      {
       "output_type": "stream",
       "stream": "stdout",
       "text": [
        "{\n",
        "  \"length\": 4, \n",
        "  \"interactions\": [\n",
        "    {\n",
        "      \"edge1\": \"{\", \n",
        "      \"edge2\": \")\", \n",
        "      \"orientation\": \"c\", \n",
        "      \"location\": [\n",
        "        [\n",
        "          3, \n",
        "          3\n",
        "        ], \n",
        "        [\n",
        "          11, \n",
        "          11\n",
        "        ]\n",
        "      ]\n",
        "    }\n",
        "  ], \n",
        "  \"name\": \"H1\", \n",
        "  \"location\": [\n",
        "    [\n",
        "      1, \n",
        "      4\n",
        "    ], \n",
        "    [\n",
        "      10, \n",
        "      13\n",
        "    ]\n",
        "  ]\n",
        "}\n",
        "\n",
        "Any non canonical base pairs in this helix?\n",
        "\n",
        "{\n",
        "  \"edge1\": \"{\", \n",
        "  \"edge2\": \")\", \n",
        "  \"orientation\": \"c\", \n",
        "  \"location\": [\n",
        "    [\n",
        "      3, \n",
        "      3\n",
        "    ], \n",
        "    [\n",
        "      11, \n",
        "      11\n",
        "    ]\n",
        "  ]\n",
        "}\n"
       ]
      }
     ],
     "prompt_number": 3
    },
    {
     "cell_type": "markdown",
     "metadata": {},
     "source": [
      "or over the single-strands..."
     ]
    },
    {
     "cell_type": "code",
     "collapsed": false,
     "input": [
      "for single_strand in ss.single_strands:\n",
      "    print json.dumps(single_strand, indent = 2)"
     ],
     "language": "python",
     "metadata": {},
     "outputs": [
      {
       "output_type": "stream",
       "stream": "stdout",
       "text": [
        "{\n",
        "  \"name\": \"SS1\", \n",
        "  \"location\": [\n",
        "    5, \n",
        "    9\n",
        "  ]\n",
        "}\n"
       ]
      }
     ],
     "prompt_number": 4
    },
    {
     "cell_type": "markdown",
     "metadata": {},
     "source": [
      "Any high-level object from a pyrna.features.SecondaryStructure is described with a \"location\". A location is a N x 2 matrix where N is the number of blocks of contiguous residues, each block being described with its start and end positions.\n",
      "\n",
      "An helix location will be a matrix like [ [1,4] , [10,13] ], meaning that the first strand is between residues 1 and 4, and the second strand is between residues 10 and 13.\n",
      "\n",
      "A base pair location will be a matrix like [ [3,3] , [11,11] ], meaning a base pair between residues 3 and 11."
     ]
    },
    {
     "cell_type": "markdown",
     "metadata": {},
     "source": [
      "From a pyrna.features.SecondaryStructure object, we can easily go back to a list of base pairs stored in a pandas Dataframe."
     ]
    },
    {
     "cell_type": "code",
     "collapsed": false,
     "input": [
      "from pyrna.parsers import secondary_structure_to_base_pairs\n",
      "print secondary_structure_to_base_pairs(ss)"
     ],
     "language": "python",
     "metadata": {},
     "outputs": [
      {
       "output_type": "stream",
       "stream": "stdout",
       "text": [
        "  edge1 edge2 orientation  pos1  pos2\n",
        "0     (     )           c     1    13\n",
        "1     (     )           c     2    12\n",
        "2     {     )           c     3    11\n",
        "3     (     )           c     4    10\n",
        "\n",
        "[4 rows x 5 columns]\n"
       ]
      }
     ],
     "prompt_number": 5
    },
    {
     "cell_type": "markdown",
     "metadata": {},
     "source": [
      "Now we can create a new secondary structure containing a single tertiary interaction. A tertiary interaction is defined as a base pair which is not contiguous to another base-pair."
     ]
    },
    {
     "cell_type": "code",
     "collapsed": false,
     "input": [
      "rna = RNA(name = 'my_rna', sequence = 'GGGGGACGCAGTAACCCC')\n",
      "bn = '(({(.(.....)..))))'\n",
      "base_pairs = parse_bn(bn)\n",
      "print base_pairs"
     ],
     "language": "python",
     "metadata": {},
     "outputs": [
      {
       "output_type": "stream",
       "stream": "stdout",
       "text": [
        "  orientation edge1 edge2  pos1  pos2\n",
        "0           c     (     )     6    12\n",
        "1           c     (     )     4    15\n",
        "2           c     {     )     3    16\n",
        "3           c     (     )     2    17\n",
        "4           c     (     )     1    18\n",
        "\n",
        "[5 rows x 5 columns]\n"
       ]
      }
     ],
     "prompt_number": 6
    },
    {
     "cell_type": "markdown",
     "metadata": {},
     "source": [
      "The single tertiary interaction is stored in a pyrna.features.SecondaryStructure object."
     ]
    },
    {
     "cell_type": "code",
     "collapsed": false,
     "input": [
      "ss = base_pairs_to_secondary_structure(rna, base_pairs)\n",
      "for tertiary_interaction in ss.tertiary_interactions:\n",
      "    print json.dumps(tertiary_interaction, indent = 2)"
     ],
     "language": "python",
     "metadata": {},
     "outputs": [
      {
       "output_type": "stream",
       "stream": "stdout",
       "text": [
        "{\n",
        "  \"edge1\": \"(\", \n",
        "  \"edge2\": \")\", \n",
        "  \"orientation\": \"c\", \n",
        "  \"location\": [\n",
        "    [\n",
        "      6, \n",
        "      6\n",
        "    ], \n",
        "    [\n",
        "      12, \n",
        "      12\n",
        "    ]\n",
        "  ]\n",
        "}\n"
       ]
      }
     ],
     "prompt_number": 7
    },
    {
     "cell_type": "markdown",
     "metadata": {},
     "source": [
      "If we want to go back to a list of base pairs in a pandas Dataframe, we need to precise if we want to keep the tertiary interactions..."
     ]
    },
    {
     "cell_type": "code",
     "collapsed": false,
     "input": [
      "print secondary_structure_to_base_pairs(ss, keep_tertiaries=True)"
     ],
     "language": "python",
     "metadata": {},
     "outputs": [
      {
       "output_type": "stream",
       "stream": "stdout",
       "text": [
        "  edge1 edge2 orientation  pos1  pos2\n",
        "0     (     )           c     1    18\n",
        "1     (     )           c     2    17\n",
        "2     {     )           c     3    16\n",
        "3     (     )           c     4    15\n",
        "4     (     )           c     6    12\n",
        "\n",
        "[5 rows x 5 columns]\n"
       ]
      }
     ],
     "prompt_number": 8
    },
    {
     "cell_type": "markdown",
     "metadata": {},
     "source": [
      "...or not"
     ]
    },
    {
     "cell_type": "code",
     "collapsed": false,
     "input": [
      "print secondary_structure_to_base_pairs(ss)"
     ],
     "language": "python",
     "metadata": {},
     "outputs": [
      {
       "output_type": "stream",
       "stream": "stdout",
       "text": [
        "  edge1 edge2 orientation  pos1  pos2\n",
        "0     (     )           c     1    18\n",
        "1     (     )           c     2    17\n",
        "2     {     )           c     3    16\n",
        "3     (     )           c     4    15\n",
        "\n",
        "[4 rows x 5 columns]\n"
       ]
      }
     ],
     "prompt_number": 9
    },
    {
     "cell_type": "heading",
     "level": 1,
     "metadata": {},
     "source": [
      "Creation of secondary structures from files"
     ]
    },
    {
     "cell_type": "markdown",
     "metadata": {},
     "source": [
      "PyRNA is able to parse several file formats describing secondary structures. "
     ]
    },
    {
     "cell_type": "code",
     "collapsed": false,
     "input": [
      "from pyrna.parsers import parse_vienna\n",
      "\n",
      "h = open('data/ft3100_2D_with_bracket_notation.fasta')\n",
      "vienna_content = h.read()\n",
      "h.close()\n",
      "\n",
      "print vienna_content"
     ],
     "language": "python",
     "metadata": {},
     "outputs": [
      {
       "output_type": "stream",
       "stream": "stdout",
       "text": [
        ">ft3100 FANTOM3\n",
        "TAACAATCTGCTGAAAGGTACCGTCGGAGGGAGCTTTGTTGCCAGCGCCA\n",
        "GAAACGCCGGTTTAACCAGCGCCGAAGTGAGCGCAGTGATTAAAGCCATG\n",
        "CAGTGGCAAATGGATTTCCGCAAACTGAAAAAAGGCGATGAATTTGCGGT\n",
        ".......((((.....(((((((.((...((.(((........))).)).\n",
        "....)).))))...)))..((((..(((..(((....((((...(((((.\n",
        "..))))).....))))..)))..))).......))))........)))).\n"
       ]
      }
     ],
     "prompt_number": 10
    },
    {
     "cell_type": "markdown",
     "metadata": {},
     "source": [
      "In a Vienna file, several molecules and bracket notations can be stored. Consequently, the function parse_vienna() returns a list of RNA objects and a list of pandas Dataframes."
     ]
    },
    {
     "cell_type": "code",
     "collapsed": false,
     "input": [
      "all_molecules, all_base_pairs = parse_vienna(vienna_content)\n",
      "\n",
      "for base_pairs in all_base_pairs:\n",
      "    print base_pairs"
     ],
     "language": "python",
     "metadata": {},
     "outputs": [
      {
       "output_type": "stream",
       "stream": "stdout",
       "text": [
        "   orientation edge1 edge2  pos1  pos2\n",
        "0            c     (     )    35    44\n",
        "1            c     (     )    34    45\n",
        "2            c     (     )    33    46\n",
        "3            c     (     )    31    48\n",
        "4            c     (     )    30    49\n",
        "5            c     (     )    26    55\n",
        "6            c     (     )    25    56\n",
        "7            c     (     )    23    58\n",
        "8            c     (     )    22    59\n",
        "9            c     (     )    21    60\n",
        "10           c     (     )    20    61\n",
        "11           c     (     )    19    65\n",
        "12           c     (     )    18    66\n",
        "13           c     (     )    17    67\n",
        "14           c     (     )    99   103\n",
        "15           c     (     )    98   104\n",
        "16           c     (     )    97   105\n",
        "17           c     (     )    96   106\n",
        "18           c     (     )    95   107\n",
        "19           c     (     )    91   113\n",
        "20           c     (     )    90   114\n",
        "21           c     (     )    89   115\n",
        "22           c     (     )    88   116\n",
        "23           c     (     )    83   119\n",
        "24           c     (     )    82   120\n",
        "25           c     (     )    81   121\n",
        "26           c     (     )    78   124\n",
        "27           c     (     )    77   125\n",
        "28           c     (     )    76   126\n",
        "29           c     (     )    73   134\n",
        "30           c     (     )    72   135\n",
        "31           c     (     )    71   136\n",
        "32           c     (     )    70   137\n",
        "33           c     (     )    11   146\n",
        "34           c     (     )    10   147\n",
        "35           c     (     )     9   148\n",
        "36           c     (     )     8   149\n",
        "\n",
        "[37 rows x 5 columns]\n"
       ]
      }
     ],
     "prompt_number": 11
    },
    {
     "cell_type": "heading",
     "level": 1,
     "metadata": {},
     "source": [
      "Creation of secondary structures from databases"
     ]
    },
    {
     "cell_type": "markdown",
     "metadata": {},
     "source": [
      "PyRNA allows to recover Rfam entries directly from the database website."
     ]
    },
    {
     "cell_type": "code",
     "collapsed": false,
     "input": [
      "from pyrna.db import Rfam\n",
      "rfam = Rfam(use_website = True)"
     ],
     "language": "python",
     "metadata": {},
     "outputs": [],
     "prompt_number": 12
    },
    {
     "cell_type": "markdown",
     "metadata": {},
     "source": [
      "The function get_entry() returns:\n",
      "    \n",
      "* a list of gapped RNA objects\n",
      "* a dictionary to map species labels to name/start-end\n",
      "* a pandas Dataframe listing the paired columns in the Rfam alignment (a.k.a a consensus secondary structure)"
     ]
    },
    {
     "cell_type": "code",
     "collapsed": false,
     "input": [
      "gapped_rnas, organism_names_2_nse, consensus_2d = rfam.get_entry(rfam_id='RF00059')\n",
      "\n",
      "for gapped_rna in gapped_rnas[:10]:\n",
      "    print \"sequence for %s: %s\"%(gapped_rna.name, gapped_rna.sequence)"
     ],
     "language": "python",
     "metadata": {},
     "outputs": [
      {
       "output_type": "stream",
       "stream": "stdout",
       "text": [
        "sequence for M.leprae.1: AAAAAACCACGCGGGAGCACACACCA------------------------------------------------------------------------------------------------------------------------AGUGC-GCUGAGAGGACGGAUCGGGG------------------------------------------------------------------------------CCGUC-GA-CCGUAUGA-ACCUGA--CCGGGUAAUGCCGGCG-UAGGGA-GAUGAAUAAUGACUGAAA\n",
        "sequence for M.leprae.2: ACUUCAGUACACGGGAGUCCCCAGGCAGUCCGAAUCU-------------------------------------------------------------------------------------------------------------GCGGG-GCUGAGAGUGGGCACAGCCAGAGUGACUGAACCU----------------------------------------------------------------ACCCUUA--CCCUCCCACACCUGA-UCCGGGUCAUGCCGGCG-AAGGGA-GGUUCAAGAUGCCGUCAG\n",
        "sequence for Sinorhizobium_melilo.1: GCUGCUCUAACGGGGUGCCCUGGCCGGCUUUGCGA---------------------------------------------------------------------------------------------------------------CCAUG-GCUGAGAGGCUUC--------------------------------------------------------------------------------------GAGCCAA-CCCGCGGA-ACCUGA-UCCGGCUCAUACCGGCG-GAGGGA--UUAGAAGCGAUCGGACC\n",
        "sequence for S.pneumoniae.1: UAAAGACAUUUGGGGUGCUU--------------------------------------------------------------------------------------------------------------------------------UAG-GCUGAGAU----------------------------------------------------------------------------------------------GAUA-CCCAUUGA-ACCUGA-UACAGUUAAGACUGGCG-AAGGGA--AAUGUGAAAUGUUUUUU\n",
        "sequence for Lactococcus_lactis_s.1: UAUUUGCACAAUGGGUCUAUUGACAAGUCUG-------------------------------------------------------------------------------------------------------------------UCAGU-AGCGAGAA-----------------------------------------------------------------------------------------------AUA-CCAUCUG--ACCUGA-UCUGGGUAAUGCCAGCG-UAGGAA--UGUGUUAAGACAAUCGU\n",
        "sequence for Corynebacterium_glut.1: AUACUAGGCACGGGGUGCCAACCGGAUGGAAAAAUUC-------------------------------------------------------------------------------------------------------------CGGAG-GCUGAGAAA----------------------------------------------------------------------------------------------ACA-CCCGUUGA-ACCUGC-UCUAGCUCGUACUAGCG-AAGGGA--UGGCCUUAACGUGGCUA\n",
        "sequence for C.callunae.1: GGCAGUCCCCACGGGCGCCCGAGC---------------------------------------------------------------------------------------------------------------------------ACGG-GCUGAGAUCGCGCUGAUUUUG-----------------------------------------------------------------------------CGCGAGCA-CCGUUUGA-ACCUG--UCCGGUUAGCACCGGCG-AAGGAA-GAGAGGAAUGGUGCAAUG\n",
        "sequence for Bacillus_subtilis_su.2: GAUUCAUCCUAGGGGUGCUUUG-----------------------------------------------------------------------------------------------------------------------------CGAA-GCUGAGAGAGACUU------------------------------------------------------------------------------------UGUCUCAA-CCCUUUUG-ACCUGA-UCUGGAUCAUGCCAGCG-GAGGGA--AGCGGUGAAAAGCGGAG\n",
        "sequence for Bacillus_subtilis_su.3: GAUGACCACAAGGGGAGCAUU-------------------------------------------------------------------------------------------------------------------------------AAA-GCUGAGAGUGAGCGGUUU--------------------------------------------------------------------------------CGUUCUGA-CCCUUUGA-ACCUG--U-UAGUUAACGCUGGCG-UAGGGA--UGUGGCAAAGUCAAAUG\n",
        "sequence for Bacillus_subtilis_su.1: UUUAACCACUAGGGGUGUCCUUCA--------------------------------------------------------------------------------------------------------------------------UAAGG-GCUGAGAUAAAAGUGUGA--------------------------------------------------------------------------------CUUUUAGA-CCCUCAUA-ACUUGA-ACAGGUUCAGACCUGCG-UAGGGA--AGUGGAGCGGUAUUUGU\n"
       ]
      }
     ],
     "prompt_number": 26
    },
    {
     "cell_type": "markdown",
     "metadata": {},
     "source": [
      "The function consensus2d_to_base_pairs() allows to easily infer the secondary structure for a given RNA sequence"
     ]
    },
    {
     "cell_type": "code",
     "collapsed": false,
     "input": [
      "from pyrna.parsers import consensus2d_to_base_pairs, to_bn\n",
      "\n",
      "for gapped_rna in gapped_rnas[:10]:\n",
      "    rna = RNA(name = gapped_rna.name, sequence = gapped_rna.sequence.replace('-',''))\n",
      "    print rna.name\n",
      "    print rna.sequence\n",
      "    print to_bn(consensus2d_to_base_pairs(gapped_rna, consensus_2d), len(rna))"
     ],
     "language": "python",
     "metadata": {},
     "outputs": [
      {
       "output_type": "stream",
       "stream": "stdout",
       "text": [
        "M.leprae.1\n",
        "AAAAAACCACGCGGGAGCACACACCAAGUGCGCUGAGAGGACGGAUCGGGGCCGUCGACCGUAUGAACCUGACCGGGUAAUGCCGGCGUAGGGAGAUGAAUAAUGACUGAAA\n",
        ".....(((((((((..(((((.......)))))......(((((.......)))))..)))).....((((.((((......))))..))))...)))))............"
       ]
      },
      {
       "output_type": "stream",
       "stream": "stdout",
       "text": [
        "\n",
        "M.leprae.2\n",
        "ACUUCAGUACACGGGAGUCCCCAGGCAGUCCGAAUCUGCGGGGCUGAGAGUGGGCACAGCCAGAGUGACUGAACCUACCCUUACCCUCCCACACCUGAUCCGGGUCAUGCCGGCGAAGGGAGGUUCAAGAUGCCGUCAG\n",
        ".....(((((((((..(((((..................))))).....((((((.....................)))))).))))......((((..((((......))))..))))...)))))............"
       ]
      },
      {
       "output_type": "stream",
       "stream": "stdout",
       "text": [
        "\n",
        "Sinorhizobium_melilo.1\n",
        "GCUGCUCUAACGGGGUGCCCUGGCCGGCUUUGCGACCAUGGCUGAGAGGCUUCGAGCCAACCCGCGGAACCUGAUCCGGCUCAUACCGGCGGAGGGAUUAGAAGCGAUCGGACC\n",
        ".....(((((((((..(((((................))))).....(((((.)))))..)))).....((((..((((......))))..))))..)))))............"
       ]
      },
      {
       "output_type": "stream",
       "stream": "stdout",
       "text": [
        "\n",
        "S.pneumoniae.1\n",
        "UAAAGACAUUUGGGGUGCUUUAGGCUGAGAUGAUACCCAUUGAACCUGAUACAGUUAAGACUGGCGAAGGGAAAUGUGAAAUGUUUUUU\n",
        ".....(((((((((..((((.)))).....(.)..)))).....((((..((((......))))..))))..)))))............"
       ]
      },
      {
       "output_type": "stream",
       "stream": "stdout",
       "text": [
        "\n",
        "Lactococcus_lactis_s.1\n",
        "UAUUUGCACAAUGGGUCUAUUGACAAGUCUGUCAGUAGCGAGAAAUACCAUCUGACCUGAUCUGGGUAAUGCCAGCGUAGGAAUGUGUUAAGACAAUCGU\n",
        ".....(((((((((..(((((............))))).....()..))))....((((..((((......))))..))))..)))))............"
       ]
      },
      {
       "output_type": "stream",
       "stream": "stdout",
       "text": [
        "\n",
        "Corynebacterium_glut.1\n",
        "AUACUAGGCACGGGGUGCCAACCGGAUGGAAAAAUUCCGGAGGCUGAGAAAACACCCGUUGAACCUGCUCUAGCUCGUACUAGCGAAGGGAUGGCCUUAACGUGGCUA\n",
        ".....(((((((((..(((((..................))))).....(.)..)))).....((((..((((......))))..))))..)))))............"
       ]
      },
      {
       "output_type": "stream",
       "stream": "stdout",
       "text": [
        "\n",
        "C.callunae.1\n",
        "GGCAGUCCCCACGGGCGCCCGAGCACGGGCUGAGAUCGCGCUGAUUUUGCGCGAGCACCGUUUGAACCUGUCCGGUUAGCACCGGCGAAGGAAGAGAGGAAUGGUGCAAUG\n",
        ".....(((((((((..(((((....))))).....((((((........))))))..)))).....((((.((((......))))..))))...)))))............"
       ]
      },
      {
       "output_type": "stream",
       "stream": "stdout",
       "text": [
        "\n",
        "Bacillus_subtilis_su.2\n",
        "GAUUCAUCCUAGGGGUGCUUUGCGAAGCUGAGAGAGACUUUGUCUCAACCCUUUUGACCUGAUCUGGAUCAUGCCAGCGGAGGGAAGCGGUGAAAAGCGGAG\n",
        ".....(((((((((..(((((..))))).....((((((.))))))..)))).....((((..((((......))))..))))..)))))............"
       ]
      },
      {
       "output_type": "stream",
       "stream": "stdout",
       "text": [
        "\n",
        "Bacillus_subtilis_su.3\n",
        "GAUGACCACAAGGGGAGCAUUAAAGCUGAGAGUGAGCGGUUUCGUUCUGACCCUUUGAACCUGUUAGUUAACGCUGGCGUAGGGAUGUGGCAAAGUCAAAUG\n",
        ".....(((((((((..((((())))).....((((((.....))))))..)))).....((((.(((......)))...))))..)))))............"
       ]
      },
      {
       "output_type": "stream",
       "stream": "stdout",
       "text": [
        "\n",
        "Bacillus_subtilis_su.1\n",
        "UUUAACCACUAGGGGUGUCCUUCAUAAGGGCUGAGAUAAAAGUGUGACUUUUAGACCCUCAUAACUUGAACAGGUUCAGACCUGCGUAGGGAAGUGGAGCGGUAUUUGU\n",
        ".....(((((((((..(((((.....))))).....((((((.....))))))..)))).....((((..((((......))))..))))..)))))............"
       ]
      },
      {
       "output_type": "stream",
       "stream": "stdout",
       "text": [
        "\n"
       ]
      }
     ],
     "prompt_number": 14
    },
    {
     "cell_type": "heading",
     "level": 1,
     "metadata": {},
     "source": [
      "Creation of secondary structures from algorithms"
     ]
    },
    {
     "cell_type": "markdown",
     "metadata": {},
     "source": [
      "To run computations on my own server, we need an api_key. This is a security to avoid flood from bots. This api_key will be used to instantiate classes from the module pyrna.computations. Without this key, the server will return an unauthorized error."
     ]
    },
    {
     "cell_type": "code",
     "collapsed": false,
     "input": [
      "from pyrna.computations import get_api_key\n",
      "rest_server = \"arn-ibmc.in2p3.fr\"\n",
      "api_key = get_api_key(rest_server)\n",
      "print api_key"
     ],
     "language": "python",
     "metadata": {},
     "outputs": [
      {
       "output_type": "stream",
       "stream": "stdout",
       "text": [
        "DY6JE44YOY\n"
       ]
      }
     ],
     "prompt_number": 15
    },
    {
     "cell_type": "markdown",
     "metadata": {},
     "source": [
      "Now we can now launch some computations. First, we can predict a secondary structure from an RNA molecule. The secondary structure will be described in a pandas Dataframe."
     ]
    },
    {
     "cell_type": "code",
     "collapsed": false,
     "input": [
      "from pyrna.computations import Rnafold\n",
      "from pyrna.features import RNA\n",
      "rna = RNA(name = 'my_rna', sequence = 'GGGGTAGGGACGGTAGGGGGACGCAGTGCAGTAACGTACCCGGTAGGGGGTAGGGGGACGCAGTAACCCCGGGGACGCAGTAACCCCACGCAGTAACCCC')\n",
      "rnafold = Rnafold(rest_server = rest_server, api_key = api_key) #if we do Rnafold(), the algorithm will be launched locally\n",
      "base_pairs = rnafold.fold(rna)\n",
      "print base_pairs"
     ],
     "language": "python",
     "metadata": {},
     "outputs": [
      {
       "output_type": "stream",
       "stream": "stdout",
       "text": [
        "   orientation edge1 edge2  pos1  pos2\n",
        "0            c     (     )    41    48\n",
        "1            c     (     )    40    49\n",
        "2            c     (     )    39    50\n",
        "3            c     (     )    38    51\n",
        "4            c     (     )    37    52\n",
        "5            c     (     )    56    67\n",
        "6            c     (     )    55    68\n",
        "7            c     (     )    54    69\n",
        "8            c     (     )    53    70\n",
        "9            c     (     )    29    77\n",
        "10           c     (     )    28    78\n",
        "11           c     (     )    27    79\n",
        "12           c     (     )    24    80\n",
        "13           c     (     )    23    81\n",
        "14           c     (     )    20    84\n",
        "15           c     (     )    19    85\n",
        "16           c     (     )    18    86\n",
        "17           c     (     )    17    87\n",
        "18           c     (     )    14    90\n",
        "19           c     (     )    13    91\n",
        "20           c     (     )    11    93\n",
        "21           c     (     )    10    94\n",
        "22           c     (     )     5    96\n",
        "23           c     (     )     4    97\n",
        "24           c     (     )     3    98\n",
        "25           c     (     )     2    99\n",
        "26           c     (     )     1   100\n",
        "\n",
        "[27 rows x 5 columns]\n"
       ]
      }
     ],
     "prompt_number": 16
    },
    {
     "cell_type": "markdown",
     "metadata": {},
     "source": [
      "Contrafold is also available for computations on my own server."
     ]
    },
    {
     "cell_type": "code",
     "collapsed": false,
     "input": [
      "from pyrna.computations import Contrafold\n",
      "contrafold = Contrafold(rest_server = rest_server, api_key = api_key)\n",
      "base_pairs = contrafold.fold(rna)\n",
      "print base_pairs"
     ],
     "language": "python",
     "metadata": {},
     "outputs": [
      {
       "output_type": "stream",
       "stream": "stdout",
       "text": [
        "   orientation edge1 edge2  pos1  pos2\n",
        "0            c     (     )    41    48\n",
        "1            c     (     )    40    49\n",
        "2            c     (     )    39    50\n",
        "3            c     (     )    38    51\n",
        "4            c     (     )    37    52\n",
        "5            c     (     )    70    71\n",
        "6            c     (     )    69    72\n",
        "7            c     (     )    68    73\n",
        "8            c     (     )    67    74\n",
        "9            c     (     )    36    76\n",
        "10           c     (     )    35    77\n",
        "11           c     (     )    26    78\n",
        "12           c     (     )    24    80\n",
        "13           c     (     )    23    81\n",
        "14           c     (     )    19    84\n",
        "15           c     (     )    18    85\n",
        "16           c     (     )    17    86\n",
        "17           c     (     )    16    87\n",
        "18           c     (     )    12    89\n",
        "19           c     (     )    11    90\n",
        "20           c     (     )    10    94\n",
        "21           c     (     )     5    96\n",
        "22           c     (     )     4    97\n",
        "23           c     (     )     3    98\n",
        "24           c     (     )     2    99\n",
        "25           c     (     )     1   100\n",
        "\n",
        "[26 rows x 5 columns]\n"
       ]
      }
     ],
     "prompt_number": 17
    },
    {
     "cell_type": "markdown",
     "metadata": {},
     "source": [
      "We can also compute the 2D coordinates for a plot."
     ]
    },
    {
     "cell_type": "code",
     "collapsed": true,
     "input": [
      "from pyrna.computations import Rnaplot\n",
      "rnaplot = Rnaplot(api_key = api_key)\n",
      "plot = rnaplot.plot(secondary_structure = base_pairs, rna = rna)\n",
      "print plot"
     ],
     "language": "python",
     "metadata": {},
     "outputs": [
      {
       "output_type": "stream",
       "stream": "stdout",
       "text": [
        "          x        y\n",
        "1    65.468   -7.471\n",
        "2    65.468    7.529\n",
        "3    65.468   22.529\n",
        "4    65.468   37.529\n",
        "5    65.468   52.529\n",
        "6    58.013   57.898\n",
        "7    53.897   66.267\n",
        "8    54.204   75.728\n",
        "9    58.994   84.054\n",
        "10   67.254   89.223\n",
        "11   67.954  104.207\n",
        "12   67.954  119.207\n",
        "13   59.962  125.915\n",
        "14   57.013  136.155\n",
        "15   60.348  146.509\n",
        "16   69.069  153.376\n",
        "17   70.002  168.347\n",
        "18   70.934  183.318\n",
        "19   71.867  198.289\n",
        "20   62.010  206.746\n",
        "21   58.830  219.541\n",
        "22   63.724  231.993\n",
        "23   75.092  239.412\n",
        "24   76.490  254.347\n",
        "25   69.972  267.739\n",
        "26   78.962  280.759\n",
        "27   67.122  271.549\n",
        "28   52.140  270.819\n",
        "29   39.461  278.834\n",
        "30   33.693  292.680\n",
        "31   36.933  307.326\n",
        "32   48.004  317.448\n",
        "33   62.881  319.366\n",
        "34   76.157  312.384\n",
        "35   83.006  299.040\n",
        "36   88.039  313.170\n",
        "37   87.806  328.168\n",
        "38   82.336  342.135\n",
        "39   76.866  356.103\n",
        "40   71.396  370.070\n",
        "41   65.927  384.037\n",
        "42   51.347  390.137\n",
        "43   45.429  404.791\n",
        "44   51.683  419.306\n",
        "45   66.399  425.069\n",
        "46   80.846  418.662\n",
        "47   86.453  403.885\n",
        "48   79.894  389.507\n",
        "49   85.364  375.539\n",
        "50   90.833  361.572\n",
        "51   96.303  347.605\n",
        "52  101.773  333.638\n",
        "53  103.669  348.518\n",
        "54  105.565  363.397\n",
        "55  101.785  377.913\n",
        "56  104.727  392.622\n",
        "57  113.801  404.566\n",
        "58  127.182  411.345\n",
        "59  142.180  411.596\n",
        "60  155.780  405.269\n",
        "        ...      ...\n",
        "\n",
        "[100 rows x 2 columns]\n"
       ]
      }
     ],
     "prompt_number": 18
    },
    {
     "cell_type": "markdown",
     "metadata": {},
     "source": [
      "We can also compute a secondary structure by annotating a tertiary one. First, we need to import a 3D structure from the Protein Databank."
     ]
    },
    {
     "cell_type": "code",
     "collapsed": false,
     "input": [
      "from pyrna.db import PDB\n",
      "from pyrna.parsers import parse_pdb\n",
      "pdb = PDB()\n",
      "tertiary_structures = parse_pdb(pdb.get_entry('1HR2'))"
     ],
     "language": "python",
     "metadata": {},
     "outputs": [],
     "prompt_number": 19
    },
    {
     "cell_type": "markdown",
     "metadata": {},
     "source": [
      "With PyRNA, a pyrna.features.TertiaryStructure object is made with a single molecular chain. Consequently, the function parse_pdb returns a list of such objects. We can iterate over these pyrna.features.TertiaryStructure objects to annotate them with the algorithm Rnaview (Rnaview is available for computations from my own server)."
     ]
    },
    {
     "cell_type": "code",
     "collapsed": false,
     "input": [
      "secondary_structures = []\n",
      "for ts in tertiary_structures:\n",
      "    #the function annotate() from Rnaview returns a pyrna.features.SecondaryStructure object and its 3D counterpart as a pyrna.features.TertiaryStructure object\n",
      "    secondary_structure, tertiary_structure = Rnaview(rest_server = rest_server, api_key = api_key).annotate(ts)\n",
      "    secondary_structures.append(secondary_structure)\n",
      "    #the function secondary_structure_to_base_pairs() transform a pyrna.features.SecondaryStructure object into a list of base pairs stored in a pandas Dataframe\n",
      "    print \"Molecular chain %s\"%secondary_structure.rna.name\n",
      "    print secondary_structure_to_base_pairs(secondary_structure, keep_tertiaries = True)"
     ],
     "language": "python",
     "metadata": {},
     "outputs": [
      {
       "output_type": "stream",
       "stream": "stdout",
       "text": [
        "Molecular chain A\n",
        "   edge1 edge2 orientation  pos1  pos2\n",
        "0      (     )           c     4   112\n",
        "1      (     )           c     5   111\n",
        "2      (     )           c     6   110\n",
        "3      (     )           c     7   109\n",
        "4      (     )           c     8   108\n",
        "5      (     )           c     9   107\n",
        "6      (     )           c    10   106\n",
        "7      {     ]           t    11   105\n",
        "8      [     }           t    12   104\n",
        "9      (     )           c    14   103\n",
        "10     (     )           c    15   102\n",
        "11     (     )           c    16   101\n",
        "12     (     )           c    17   100\n",
        "13     (     )           c    18    99\n",
        "14     (     )           c    19    98\n",
        "15     (     )           c    24    94\n",
        "16     (     )           c    25    93\n",
        "17     (     )           c    26    92\n",
        "18     (     )           c    27    91\n",
        "19     (     )           c    30    89\n",
        "20     (     )           c    31    88\n",
        "21     (     )           c    32    87\n",
        "22     (     )           c    34    80\n",
        "23     (     )           c    35    79\n",
        "24     (     )           c    36    78\n",
        "25     [     }           t    37    62\n",
        "26     [     }           t    38    61\n",
        "27     (     )           c    39    60\n",
        "28     (     )           c    40    59\n",
        "29     (     )           c    41    58\n",
        "30     (     )           c    42    57\n",
        "31     (     )           c    43    56\n",
        "32     (     )           c    44    55\n",
        "33     (     )           c    45    54\n",
        "34     (     )           c    46    53\n",
        "35     (     )           c    47    52\n",
        "36     (     )           c    63    73\n",
        "37     (     )           c    64    72\n",
        "38     !     !           !    65    71\n",
        "39     (     )           c   117   150\n",
        "40     (     )           c   118   149\n",
        "41     (     )           c   119   148\n",
        "42     (     )           c   120   147\n",
        "43     (     )           c   124   144\n",
        "44     (     )           c   125   143\n",
        "45     (     )           c   126   142\n",
        "46     (     )           c   127   141\n",
        "47     (     )           c   128   140\n",
        "48     (     )           c   129   139\n",
        "49     (     )           c   130   138\n",
        "50     (     )           c   131   137\n",
        "51     (     )           c   132   136\n",
        "52     [     )           c     4   156\n",
        "53     (     ]           t    21    96\n",
        "54     (     }           t    22    99\n",
        "55     (     ]           c    33    85\n",
        "56     {     ]           t    48    51\n",
        "57     (     )           t    49   145\n",
        "58     {     }           t    51   147\n",
        "59     [     )           t    66    86\n",
        "     ...   ...         ...   ...   ...\n",
        "\n",
        "[83 rows x 5 columns]\n",
        "Molecular chain B"
       ]
      },
      {
       "output_type": "stream",
       "stream": "stdout",
       "text": [
        "\n",
        "   edge1 edge2 orientation  pos1  pos2\n",
        "0      (     )           c     2   115\n",
        "1      (     )           c     3   114\n",
        "2      (     )           c     4   113\n",
        "3      (     )           c     6   112\n",
        "4      (     )           c     7   111\n",
        "5      (     )           c     8   110\n",
        "6      (     )           c     9   109\n",
        "7      (     )           c    10   108\n",
        "8      (     )           c    11   107\n",
        "9      {     ]           t    12   106\n",
        "10     [     }           t    13   105\n",
        "11     (     )           c    15   104\n",
        "12     (     )           c    16   103\n",
        "13     (     )           c    17   102\n",
        "14     (     )           c    18   101\n",
        "15     (     )           c    19   100\n",
        "16     (     )           c    20    99\n",
        "17     (     )           c    25    95\n",
        "18     (     )           c    26    94\n",
        "19     (     )           c    27    93\n",
        "20     (     )           c    28    92\n",
        "21     (     )           c    30    91\n",
        "22     (     )           c    31    90\n",
        "23     (     )           c    32    89\n",
        "24     (     )           c    33    88\n",
        "25     (     )           c    35    81\n",
        "26     (     )           c    36    80\n",
        "27     (     )           c    37    79\n",
        "28     [     }           t    38    63\n",
        "29     [     }           t    39    62\n",
        "30     (     )           c    40    61\n",
        "31     (     )           c    41    60\n",
        "32     (     )           c    42    59\n",
        "33     (     )           c    43    58\n",
        "34     (     )           c    44    57\n",
        "35     (     )           c    45    56\n",
        "36     (     )           c    46    55\n",
        "37     (     )           c    47    54\n",
        "38     (     )           c    48    53\n",
        "39     (     )           c    64    74\n",
        "40     (     )           c    65    73\n",
        "41     !     !           !    66    72\n",
        "42     (     )           c   118   151\n",
        "43     (     )           c   119   150\n",
        "44     (     )           c   120   149\n",
        "45     (     )           c   121   148\n",
        "46     (     )           c   125   145\n",
        "47     (     )           c   126   144\n",
        "48     (     )           c   127   143\n",
        "49     (     )           c   128   142\n",
        "50     (     )           c   129   141\n",
        "51     (     )           c   130   140\n",
        "52     (     )           c   131   139\n",
        "53     (     )           c   132   138\n",
        "54     (     )           c   133   137\n",
        "55     (     }           c     1   118\n",
        "56     [     )           c     2   154\n",
        "57     [     )           c     4   156\n",
        "58     [     )           c     6   157\n",
        "59     [     )           c     7   158\n",
        "     ...   ...         ...   ...   ...\n",
        "\n",
        "[89 rows x 5 columns]\n"
       ]
      }
     ],
     "prompt_number": 20
    },
    {
     "cell_type": "heading",
     "level": 1,
     "metadata": {},
     "source": [
      "Mining of a Secondary Structure"
     ]
    },
    {
     "cell_type": "markdown",
     "metadata": {},
     "source": [
      "Now we can search for all base pairs made with at least one Hoogsteen edge. Since the variable base_pairs stores a pandas Dataframe, we're using the operators available from pandas (http://pandas.pydata.org/pandas-docs/stable/indexing.html)"
     ]
    },
    {
     "cell_type": "code",
     "collapsed": false,
     "input": [
      "base_pairs = secondary_structure_to_base_pairs(secondary_structures[0], keep_tertiaries = True)\n",
      "print base_pairs[(base_pairs['edge1'] == '[') | (base_pairs['edge2'] == ']')]"
     ],
     "language": "python",
     "metadata": {},
     "outputs": [
      {
       "output_type": "stream",
       "stream": "stdout",
       "text": [
        "   edge1 edge2 orientation  pos1  pos2\n",
        "7      {     ]           t    11   105\n",
        "8      [     }           t    12   104\n",
        "25     [     }           t    37    62\n",
        "26     [     }           t    38    61\n",
        "52     [     )           c     4   156\n",
        "53     (     ]           t    21    96\n",
        "55     (     ]           c    33    85\n",
        "56     {     ]           t    48    51\n",
        "59     [     )           t    66    86\n",
        "60     {     ]           c    69    70\n",
        "64     {     ]           c   114   115\n",
        "65     (     ]           t   121   145\n",
        "66     {     ]           c   122   123\n",
        "\n",
        "[13 rows x 5 columns]\n"
       ]
      }
     ],
     "prompt_number": 21
    },
    {
     "cell_type": "markdown",
     "metadata": {},
     "source": [
      "A pyrna.features.SecondaryStructure can find all its junctions (meaning the group of single-strands linking helices). \n",
      "\n",
      "According to the number of single-strands making a junction, we distinguish:\n",
      "    \n",
      "* an apical looop (a single single-strand)\n",
      "* an inner loop (two single-strands)\n",
      "* an three-way junction (three single-strands)\n",
      "* a four-way junction (four single-strands)\n",
      "* a n-way junction (n single-strands)"
     ]
    },
    {
     "cell_type": "code",
     "collapsed": false,
     "input": [
      "junctions = []\n",
      "for ss in secondary_structures:\n",
      "    ss.find_junctions()\n",
      "    junctions += ss.junctions"
     ],
     "language": "python",
     "metadata": {},
     "outputs": [],
     "prompt_number": 22
    },
    {
     "cell_type": "markdown",
     "metadata": {},
     "source": [
      "A junction is described with:\n",
      "\n",
      "* a list of single-strands making the junction\n",
      "* a location: the positions in sequence of the residues \n",
      "* a description: a string made with the single-strand sequences joined with single space characters. In the description of a junction, the character '-' means a direct link (phosphodiester bond) between two helices. Consequently, we have no single-strand linking these helices."
     ]
    },
    {
     "cell_type": "code",
     "collapsed": false,
     "input": [
      "print junctions[0]"
     ],
     "language": "python",
     "metadata": {},
     "outputs": [
      {
       "output_type": "stream",
       "stream": "stdout",
       "text": [
        "{'single_strands': [{'name': 'SS_2', 'location': [13, 13]}], 'description': 'A -', 'location': [[12, 14], [103, 104]]}\n"
       ]
      }
     ],
     "prompt_number": 23
    },
    {
     "cell_type": "markdown",
     "metadata": {},
     "source": [
      "Now we can search for all GNRA apical loops..."
     ]
    },
    {
     "cell_type": "code",
     "collapsed": false,
     "input": [
      "import re\n",
      "for junction in junctions:\n",
      "    if re.match('G[AUGC][AG]A',junction['description']):\n",
      "        print \"Apical loop with sequence %s\"%junction['description']"
     ],
     "language": "python",
     "metadata": {},
     "outputs": [
      {
       "output_type": "stream",
       "stream": "stdout",
       "text": [
        "Apical loop with sequence GAAA\n",
        "Apical loop with sequence GAAA\n"
       ]
      }
     ],
     "prompt_number": 24
    },
    {
     "cell_type": "markdown",
     "metadata": {},
     "source": [
      "Or for all three-way junctions..."
     ]
    },
    {
     "cell_type": "code",
     "collapsed": false,
     "input": [
      "for junction in junctions:\n",
      "    if len(junction['location']) == 3:\n",
      "        print \"Three-way junctions with sequence %s\"%junction['description']"
     ],
     "language": "python",
     "metadata": {},
     "outputs": [
      {
       "output_type": "stream",
       "stream": "stdout",
       "text": [
        "Three-way junctions with sequence GUAU - -\n",
        "Three-way junctions with sequence GUAU - -\n"
       ]
      }
     ],
     "prompt_number": 25
    }
   ],
   "metadata": {}
  }
 ]
}